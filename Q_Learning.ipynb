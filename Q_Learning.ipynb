{
  "nbformat": 4,
  "nbformat_minor": 0,
  "metadata": {
    "colab": {
      "provenance": []
    },
    "kernelspec": {
      "name": "python3",
      "display_name": "Python 3"
    },
    "language_info": {
      "name": "python"
    }
  },
  "cells": [
    {
      "cell_type": "code",
      "execution_count": 1,
      "metadata": {
        "id": "0jFU9pl-7JhR"
      },
      "outputs": [],
      "source": [
        "import numpy as np\n",
        "#R matrix\n",
        "R=np.matrix([[-1,-1,-1,-1,0,-1],\n",
        "             [-1,-1,-1,0,-1,100],\n",
        "             [-1,-1,-1,0,-1,-1],\n",
        "             [-1,0,0,-1,0,-1],\n",
        "             [-1,0,0,-1,-1,100],\n",
        "             [-1,0,-1,-1,0,100]])"
      ]
    },
    {
      "cell_type": "code",
      "source": [
        "R"
      ],
      "metadata": {
        "colab": {
          "base_uri": "https://localhost:8080/"
        },
        "id": "-GHNERSp7Q3E",
        "outputId": "7cd1083b-14df-41e8-c9f5-a7bd16cd5c00"
      },
      "execution_count": 2,
      "outputs": [
        {
          "output_type": "execute_result",
          "data": {
            "text/plain": [
              "matrix([[ -1,  -1,  -1,  -1,   0,  -1],\n",
              "        [ -1,  -1,  -1,   0,  -1, 100],\n",
              "        [ -1,  -1,  -1,   0,  -1,  -1],\n",
              "        [ -1,   0,   0,  -1,   0,  -1],\n",
              "        [ -1,   0,   0,  -1,  -1, 100],\n",
              "        [ -1,   0,  -1,  -1,   0, 100]])"
            ]
          },
          "metadata": {},
          "execution_count": 2
        }
      ]
    },
    {
      "cell_type": "code",
      "source": [
        "#Q matrix\n",
        "Q=np.matrix(np.zeros([6,6]))"
      ],
      "metadata": {
        "id": "fxcBSOAK7TeI"
      },
      "execution_count": 3,
      "outputs": []
    },
    {
      "cell_type": "code",
      "source": [
        "Q"
      ],
      "metadata": {
        "colab": {
          "base_uri": "https://localhost:8080/"
        },
        "id": "P6LGOBHl7VY_",
        "outputId": "bcdfa6b5-1851-49fe-d532-baa82b188194"
      },
      "execution_count": 4,
      "outputs": [
        {
          "output_type": "execute_result",
          "data": {
            "text/plain": [
              "matrix([[0., 0., 0., 0., 0., 0.],\n",
              "        [0., 0., 0., 0., 0., 0.],\n",
              "        [0., 0., 0., 0., 0., 0.],\n",
              "        [0., 0., 0., 0., 0., 0.],\n",
              "        [0., 0., 0., 0., 0., 0.],\n",
              "        [0., 0., 0., 0., 0., 0.]])"
            ]
          },
          "metadata": {},
          "execution_count": 4
        }
      ]
    },
    {
      "cell_type": "code",
      "source": [
        "gamma=0.8\n",
        "initial_state=1"
      ],
      "metadata": {
        "id": "sTiXQjDC7WuT"
      },
      "execution_count": 5,
      "outputs": []
    },
    {
      "cell_type": "code",
      "source": [
        "#This function returns all available actions in the state given as an arguement\n",
        "def available_actions(state):\n",
        "    current_state_row=R[state,]\n",
        "    av_act=np.where(current_state_row>=0)[1]\n",
        "    return av_act"
      ],
      "metadata": {
        "id": "ZfiCydLZ7Yxc"
      },
      "execution_count": 6,
      "outputs": []
    },
    {
      "cell_type": "code",
      "source": [
        "#get available actions in the current state\n",
        "available_act=available_actions(initial_state)"
      ],
      "metadata": {
        "id": "9QO9yQRy7bC8"
      },
      "execution_count": 7,
      "outputs": []
    },
    {
      "cell_type": "code",
      "source": [
        "available_act"
      ],
      "metadata": {
        "colab": {
          "base_uri": "https://localhost:8080/"
        },
        "id": "CVqftzYB7c8O",
        "outputId": "7a1a906b-1e6e-468b-df64-fb1411db9596"
      },
      "execution_count": 8,
      "outputs": [
        {
          "output_type": "execute_result",
          "data": {
            "text/plain": [
              "array([3, 5])"
            ]
          },
          "metadata": {},
          "execution_count": 8
        }
      ]
    },
    {
      "cell_type": "code",
      "source": [
        "#This function chooses at random which action to be performed within the range of all available actions\n",
        "def sample_next_action(available_action_range):\n",
        "    next_action=int(np.random.choice(available_act,1))\n",
        "    return next_action"
      ],
      "metadata": {
        "id": "kB7WSIwL7e_b"
      },
      "execution_count": 9,
      "outputs": []
    },
    {
      "cell_type": "code",
      "source": [
        "#sample next action to be performed\n",
        "action=sample_next_action(available_act)"
      ],
      "metadata": {
        "id": "KhsEBpsB7liD"
      },
      "execution_count": 10,
      "outputs": []
    },
    {
      "cell_type": "code",
      "source": [
        "action\n"
      ],
      "metadata": {
        "colab": {
          "base_uri": "https://localhost:8080/"
        },
        "id": "4mo3mlIB7n8P",
        "outputId": "f66e3b02-5c93-4bd5-8278-ad45ec8de91f"
      },
      "execution_count": 11,
      "outputs": [
        {
          "output_type": "execute_result",
          "data": {
            "text/plain": [
              "3"
            ]
          },
          "metadata": {},
          "execution_count": 11
        }
      ]
    },
    {
      "cell_type": "code",
      "source": [
        "#this function updates the Qmatrix according to the path selected and the Q learning algorithm\n",
        "def update(current_state,action,gamma):\n",
        "    max_index=np.where(Q[action,]==np.max(Q[action,]))[1]\n",
        "    \n",
        "    if max_index.shape[0]>1:\n",
        "        max_index=int(np.random.choice(max_index,size=1))\n",
        "    else:\n",
        "        max_index=int(max_index)\n",
        "    max_value=Q[action,max_index]\n",
        "    \n",
        "    #Q learning formula\n",
        "    Q[current_state,action]=R[current_state,action]+gamma*max_value\n",
        "    \n",
        "#update Q matrix\n",
        "\n",
        "update(initial_state,action,gamma)"
      ],
      "metadata": {
        "id": "Y2Bls18k7pnF"
      },
      "execution_count": 12,
      "outputs": []
    },
    {
      "cell_type": "code",
      "source": [
        "Q\n"
      ],
      "metadata": {
        "colab": {
          "base_uri": "https://localhost:8080/"
        },
        "id": "CYHUiTK47rsq",
        "outputId": "6a92959a-16dd-41ad-df5e-b3051f48bca5"
      },
      "execution_count": 13,
      "outputs": [
        {
          "output_type": "execute_result",
          "data": {
            "text/plain": [
              "matrix([[0., 0., 0., 0., 0., 0.],\n",
              "        [0., 0., 0., 0., 0., 0.],\n",
              "        [0., 0., 0., 0., 0., 0.],\n",
              "        [0., 0., 0., 0., 0., 0.],\n",
              "        [0., 0., 0., 0., 0., 0.],\n",
              "        [0., 0., 0., 0., 0., 0.]])"
            ]
          },
          "metadata": {},
          "execution_count": 13
        }
      ]
    },
    {
      "cell_type": "code",
      "source": [
        "#Training\n",
        "# Training over 10,000 iterations\n",
        "for i in range(10000):\n",
        "    current_state=np.random.randint(0,int(Q.shape[0]))\n",
        "    availabe_act=available_actions(current_state)\n",
        "    action=sample_next_action(available_act)\n",
        "    update(current_state,action,gamma)\n",
        "    \n",
        "#normalize the trained Q-Matrix\n",
        "print(\"Trained Q matrix:\")\n",
        "print(Q/np.max(Q)*100)\n",
        "# print(Q)"
      ],
      "metadata": {
        "colab": {
          "base_uri": "https://localhost:8080/"
        },
        "id": "64zg_qj-7tlH",
        "outputId": "fa932a64-12ba-4d25-decf-b6e850193c4b"
      },
      "execution_count": 14,
      "outputs": [
        {
          "output_type": "stream",
          "name": "stdout",
          "text": [
            "Trained Q matrix:\n",
            "[[  0.     0.     0.    63.64   0.    79.8 ]\n",
            " [  0.     0.     0.    63.84   0.   100.  ]\n",
            " [  0.     0.     0.    63.84   0.    79.8 ]\n",
            " [  0.     0.     0.    63.64   0.    79.8 ]\n",
            " [  0.     0.     0.    63.64   0.   100.  ]\n",
            " [  0.     0.     0.    63.64   0.   100.  ]]\n"
          ]
        }
      ]
    },
    {
      "cell_type": "code",
      "source": [
        "current_state=1\n",
        "steps=[current_state]\n",
        "while current_state!=5:\n",
        "    next_step_index=np.where(Q[current_state,]==np.max(Q[current_state,]))[1]\n",
        "    if next_step_index.shape[0]>1:\n",
        "        next_step_index=int(np.random.choice(next_step_index,size=1))\n",
        "    else:\n",
        "        next_step_index=int(next_step_index)\n",
        "    \n",
        "    steps.append(next_step_index)\n",
        "    current_state=next_step_index\n",
        "    \n",
        "\n",
        "    \n",
        "#Print selected step sequence\n",
        "print(\"Selected path:\")\n",
        "print(steps)  "
      ],
      "metadata": {
        "colab": {
          "base_uri": "https://localhost:8080/"
        },
        "id": "dQ8EC1Pq7wYL",
        "outputId": "4cd0245a-c1e6-4ca1-b65c-18bf6fd8b6ce"
      },
      "execution_count": 15,
      "outputs": [
        {
          "output_type": "stream",
          "name": "stdout",
          "text": [
            "Selected path:\n",
            "[1, 5]\n"
          ]
        }
      ]
    },
    {
      "cell_type": "code",
      "source": [],
      "metadata": {
        "id": "XoTpIe7f7zbL"
      },
      "execution_count": null,
      "outputs": []
    }
  ]
}